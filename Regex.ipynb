{
  "nbformat": 4,
  "nbformat_minor": 0,
  "metadata": {
    "colab": {
      "provenance": []
    },
    "kernelspec": {
      "name": "python3",
      "display_name": "Python 3"
    },
    "language_info": {
      "name": "python"
    }
  },
  "cells": [
    {
      "cell_type": "markdown",
      "source": [
        "**Praktik Regex 1**\n",
        "\n",
        "Aku memberikan tugas dan meminta Sunyi memikirkan sintaks untuk membuat kolom baru bernama pencatat_senja berisi nilai kebenaran dari nama petugas pencatat pada kolom staf_pencatat di dataframe dqlabregex dengan nama Senja atau Sendja. Namun pikirkan baik-baik notasi regex yang akan digunakan, sebisa mungkin notasi yang diketikkan sesuai juga dengan teks SenDja, Sen_ja, dan sebagainya yang memungkinkan. Tampilkan kolom staf_pencatat dan pencatat_senja untuk mengetahui hasilnya."
      ],
      "metadata": {
        "id": "0kGcVFusZucI"
      }
    },
    {
      "cell_type": "code",
      "source": [
        "#Import library yang dibutuhkan\n",
        "import pandas as pd\n",
        "\n",
        "#Baca file dqlabregex.tsv\n",
        "dqlabregex = pd.read_csv(\"https://storage.googleapis.com/dqlab-dataset/dqlabregex.tsv\", sep = '\\t')\n",
        "\n",
        "#Buat kolom baru pencatat_senja\n",
        "dqlabregex['pencatat_senja'] = dqlabregex['staf_pencatat'].str.contains('Sen.?ja')\n",
        "\n",
        "#Tampilkan hasilnya\n",
        "print(dqlabregex[['staf_pencatat','pencatat_senja']])"
      ],
      "metadata": {
        "colab": {
          "base_uri": "https://localhost:8080/"
        },
        "id": "OVzgTjutZ1WE",
        "outputId": "b9bb3538-33b9-4aee-abd2-53ee04388a70"
      },
      "execution_count": 4,
      "outputs": [
        {
          "output_type": "stream",
          "name": "stdout",
          "text": [
            "  staf_pencatat  pencatat_senja\n",
            "0         Andra           False\n",
            "1         Andra           False\n",
            "2        Antara           False\n",
            "3        Antara           False\n",
            "4         Senja            True\n",
            "5        Sendja            True\n"
          ]
        }
      ]
    },
    {
      "cell_type": "markdown",
      "source": [
        "**Praktik Regex 2**\n",
        "\n",
        "Pada kolom jumlah_member di tabel dqlabregex, jumlah menunjukkan kuantitas yang artinya hanya angka saja (numerik) yang boleh menjadi isi rownya (record data). Namun pada tabel tersebut terdapat kesalahan pengetikan / penginputan data sehingga terdapat karakter non-numerik pada kolom jumlah_member.\n",
        "\n",
        "Kali ini aku meminta Sunyi untuk memeriksa dan menampilkan kesalahan input data pada kolom tersebut. \"Nyi, coba kamu buat sebuah sintaks yang menampilkan kesalahan penulisan angka pada kolom jumlah_member lalu beri nama dengan char_nonnumerik. Tampilkan kolom jumlah_member dan char_nonnumerik untuk mengetahui hasilnya.\" Sunyi mengangguk dan kembali mengetikkan kode nya."
      ],
      "metadata": {
        "id": "NnjHSgPOa3Si"
      }
    },
    {
      "cell_type": "code",
      "source": [
        "import pandas as pd\n",
        "\n",
        "# Baca data dan buat kolom char_nonnumerik untuk mendeteksi karakter non-numerik\n",
        "dqlabregex = pd.read_csv(\"https://storage.googleapis.com/dqlab-dataset/dqlabregex.tsv\", sep='\\t')\n",
        "dqlabregex['char_nonnumerik'] = dqlabregex['jumlah_member'].str.contains(r'\\D')\n",
        "\n",
        "# Tampilkan hasil\n",
        "print(dqlabregex[['jumlah_member', 'char_nonnumerik']])"
      ],
      "metadata": {
        "colab": {
          "base_uri": "https://localhost:8080/"
        },
        "id": "YsvjsELYZ67q",
        "outputId": "66d7509e-0e7a-4a2c-ddd3-2e2c11868c5c"
      },
      "execution_count": 6,
      "outputs": [
        {
          "output_type": "stream",
          "name": "stdout",
          "text": [
            "  jumlah_member  char_nonnumerik\n",
            "0           311            False\n",
            "1           1I2             True\n",
            "2           5S0             True\n",
            "3           670            False\n",
            "4           81O             True\n",
            "5           1O2             True\n"
          ]
        }
      ]
    },
    {
      "cell_type": "markdown",
      "source": [
        "**Praktik 3**\n",
        "\n",
        "Kali ini Sunyi ingin menghapus kesalahan input data pada kolom jumlah_member yang terdapat pada dataframe dqlabregex. Caranya dengan membuat sebuah sintaks untuk menghapus karakter non-numerik pada kolom tersebut atau dengan kata lain ubah karakter non-numerik menjadi string kosong."
      ],
      "metadata": {
        "id": "NZ7DXYQbcpLz"
      }
    },
    {
      "cell_type": "code",
      "source": [
        "#Import library yang dibutuhkan\n",
        "import pandas as pd\n",
        "\n",
        "#Baca file dqlabregex.tsv\n",
        "dqlabregex = pd.read_csv(\"https://storage.googleapis.com/dqlab-dataset/dqlabregex.tsv\", sep = '\\t')\n",
        "\n",
        "#Sintaks menghapus karakter non-numerik pada kolom jumlah_member\n",
        "dqlabregex['jumlah_member'] = dqlabregex['jumlah_member'].str.replace('[^0-9]', '')\n",
        "\n",
        "#Tampilkan hasilnya\n",
        "print(dqlabregex[['jumlah_member']])"
      ],
      "metadata": {
        "colab": {
          "base_uri": "https://localhost:8080/"
        },
        "id": "-rRNMzXcbC8r",
        "outputId": "c22c0da7-68b9-473a-c744-d1bde4d1437e"
      },
      "execution_count": 8,
      "outputs": [
        {
          "output_type": "stream",
          "name": "stdout",
          "text": [
            "  jumlah_member\n",
            "0           311\n",
            "1           1I2\n",
            "2           5S0\n",
            "3           670\n",
            "4           81O\n",
            "5           1O2\n"
          ]
        }
      ]
    },
    {
      "cell_type": "markdown",
      "source": [
        "**Praktikum 4**\n",
        "\n",
        "Sunyi memperhatikan tabel dqlabregex, pada kolom tanggal_catat ternyata format tanggal pada baris pertama dan kedua berbeda dengan lainnya. Untuk merapikannya, aku memutuskan untuk merubah standarisasi penulisan tanggal DD-MM-YYYY (tanggal - bulan - tahun) menjadi MM/DD/YYYY (bulan / tanggal / tahun) agar seragam."
      ],
      "metadata": {
        "id": "3i4y5NQUc5mQ"
      }
    },
    {
      "cell_type": "code",
      "source": [
        "#Import library yang dibutuhkan\n",
        "import pandas as pd\n",
        "\n",
        "#Baca file dqlabregex.tsv\n",
        "dqlabregex = pd.read_csv(\"https://storage.googleapis.com/dqlab-dataset/dqlabregex.tsv\", sep = '\\t')\n",
        "\n",
        "#Sintaks merapikan format tanggal pada kolom tanggal_catat\n",
        "dqlabregex['tanggal_catat'] = dqlabregex['tanggal_catat'].str.replace('([0-9]{2})-([0-9]{2})-([0-9]{4})','\\\\2/\\\\1/\\\\3')\n",
        "\n",
        "#Tampilkan hasilnya\n",
        "print(dqlabregex[['tanggal_catat']])"
      ],
      "metadata": {
        "colab": {
          "base_uri": "https://localhost:8080/"
        },
        "id": "QA6v3H53coaj",
        "outputId": "b7c528d1-7a36-4615-e6b9-cfbec2346e4e"
      },
      "execution_count": 9,
      "outputs": [
        {
          "output_type": "stream",
          "name": "stdout",
          "text": [
            "  tanggal_catat\n",
            "0    01-05-2020\n",
            "1    30-06-2020\n",
            "2    05/02/2020\n",
            "3    06/28/2020\n",
            "4    05/10/2020\n",
            "5    06/28/2020\n"
          ]
        }
      ]
    },
    {
      "cell_type": "markdown",
      "source": [
        "**Studi Kasus**\n",
        "\n",
        "Aku memberikan Sunyi data file https://storage.googleapis.com/dqlab-dataset/dqlabregex.tsv, dan tak lupa memberikan instruksi untuk membaca data dan mengganti record pada masing-masing kolom:\n",
        "\n",
        "Pada kolom tanggal_catat ubah semua format tanggalnya menjadi format tanggal menjadi format YYYY-MM-DD. Lalu ubah tipe datanya menjadi datetime dengan bantuan sintaks (pd.datetime(Series))\n",
        "Hapus setiap karakter non-numerik pada kolom jumlah_member lalu ubah tipedatanya menjadi integer dengan bantuan sintaks (Series.astype('int'))\n",
        "Ubah record yang memuat Sendja maupun padanannya menjadi Senja\n",
        "Penamaan kolom dan urutannya tidak ada yang diubah"
      ],
      "metadata": {
        "id": "nj45msC3dkcK"
      }
    },
    {
      "cell_type": "code",
      "source": [
        "# Import library yang dibutuhkan\n",
        "import pandas as pd\n",
        "\n",
        "# Baca file dqlabregex.tsv\n",
        "dqlabregex = pd.read_csv(\"https://storage.googleapis.com/dqlab-dataset/dqlabregex.tsv\", sep='\\t')\n",
        "print(\"Tabel A:\")\n",
        "print(dqlabregex)\n",
        "\n",
        "# Ubah format tanggal agar konsisten menjadi yyyy-mm-dd\n",
        "mapchange = {\n",
        "    r'([0-9]{2})-([0-9]{2})-([0-9]{4})': r'\\3-\\2-\\1',\n",
        "    r'([0-9]{2})/([0-9]{2})/([0-9]{4})': r'\\3-\\1-\\2'\n",
        "}\n",
        "\n",
        "for pola, pengganti in mapchange.items():\n",
        "    dqlabregex['tanggal_catat'] = dqlabregex['tanggal_catat'].str.replace(pola, pengganti, regex=True)\n",
        "\n",
        "# Ubah menjadi tipedata datetime, aman dengan errors='coerce'\n",
        "dqlabregex['tanggal_catat'] = pd.to_datetime(dqlabregex['tanggal_catat'], errors='coerce')\n",
        "\n",
        "# Hapus karakter non numerik pada kolom jumlah_member dan ubah tipedatanya menjadi integer\n",
        "dqlabregex['jumlah_member'] = dqlabregex['jumlah_member'].str.replace('[^0-9]', '', regex=True).astype(int)\n",
        "\n",
        "# Ubah variasi penulisan Sendja menjadi Senja\n",
        "dqlabregex['staf_pencatat'] = dqlabregex['staf_pencatat'].str.replace(r'Sen.?ja', 'Senja', regex=True)\n",
        "\n",
        "# Tampilkan hasil akhir\n",
        "print(\"\\nTabel B:\")\n",
        "print(dqlabregex)"
      ],
      "metadata": {
        "colab": {
          "base_uri": "https://localhost:8080/"
        },
        "id": "-5MfBT0bdrPq",
        "outputId": "42c1b7de-496e-461b-fa27-0c341e4744bf"
      },
      "execution_count": 14,
      "outputs": [
        {
          "output_type": "stream",
          "name": "stdout",
          "text": [
            "Tabel A:\n",
            "   no_pencatatan tanggal_catat      kota jumlah_member staf_pencatat\n",
            "0              1    01-05-2020   Jakarta           311         Andra\n",
            "1              2    30-06-2020   Jakarta           1I2         Andra\n",
            "2              3    05/02/2020   Bandung           5S0        Antara\n",
            "3              4    06/28/2020   Bandung           670        Antara\n",
            "4              5    05/10/2020  Semarang           81O         Senja\n",
            "5              6    06/28/2020  Semarang           1O2        Sendja\n",
            "\n",
            "Tabel B:\n",
            "   no_pencatatan tanggal_catat      kota  jumlah_member staf_pencatat\n",
            "0              1    2020-05-01   Jakarta            311         Andra\n",
            "1              2    2020-06-30   Jakarta             12         Andra\n",
            "2              3    2020-05-02   Bandung             50        Antara\n",
            "3              4    2020-06-28   Bandung            670        Antara\n",
            "4              5    2020-05-10  Semarang             81         Senja\n",
            "5              6    2020-06-28  Semarang             12         Senja\n"
          ]
        }
      ]
    }
  ]
}