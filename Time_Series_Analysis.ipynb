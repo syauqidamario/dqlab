{
  "nbformat": 4,
  "nbformat_minor": 0,
  "metadata": {
    "colab": {
      "provenance": [],
      "authorship_tag": "ABX9TyONanQJIfUURf4gw47h2qrH"
    },
    "kernelspec": {
      "name": "python3",
      "display_name": "Python 3"
    },
    "language_info": {
      "name": "python"
    }
  },
  "cells": [
    {
      "cell_type": "markdown",
      "source": [
        "# **Time Series Analysis**\n",
        "\n",
        "Time Series Analysis adalah cara khusus untuk menganalisis urutan titik data (*data point*) yang dikumpulkan selama interval waktu tertentu. Data dicatat atau direkam pada interval yang konsisten selama periode waktu tertentu. Selain itu, analisis ini juga menunjukkan bagaimana variabel berubah dari waktu ke waktu.\n",
        "\n",
        "Time Series Analysis **dapat membantu memprediksi data kedepannya berdasarkan data sebelumnya** (*historical data*). Dengan begitu, Time Series Analysis dapat **membantu untuk memahami penyebab yang mendasari tren atau pola sistemik dari waktu ke waktu.**\n",
        "\n",
        "Dengan menggunakan visualisasi data, pengguna bisnis dapat melihat tren musiman dan menggali lebih dalam mengapa tren ini terjadi.\n",
        "\n",
        "Salah satu algoritma penerapan dari *Time Series Analysis*, merupakan model Autoregressive (AR). Model AR memprediksi perilaku masa depan berdasarkan perilaku masa lalu.\n",
        "\n",
        "Model ini bisa digunakan ketika ada beberapa korelasi antara nilai dalam deret waktu dan nilai yang mendahului dan menggantikannya. Intinya, model AR menggunakan hasil pengamatan yang baru saja dilakukan untuk memprediksi nilai masa depan.\n",
        "\n",
        "Model lain yang dapat digunakan adalah Moving Average (MA). MA pada dasarnya menyatakan bahwa pengamatan berikutnya adalah rata - rata dari setiap pengamatan sebelumnya.\n",
        "\n",
        "Dari AR dan MA, kita mengenal ARIMA (*Autoregressive Integrated Moving Average*). Model ARIMA menggunakan nilai masa lalu dan sekarang dari variabel dependen untuk menghasilkan peramalan jangka pendek yang akurat."
      ],
      "metadata": {
        "id": "Te2RAjiY9HPG"
      }
    },
    {
      "cell_type": "code",
      "source": [
        "#Mengimpor library pandas\n",
        "import pandas as pd\n",
        "pd.set_option('display.max_column', 20)\n",
        "\n",
        "#Membaca file\n",
        "dataset_retail = pd.read_csv('https://storage.googleapis.com/dqlab-dataset/data_retail.csv', delimiter=';')\n",
        "\n",
        "#Menampilkan isi data\n",
        "print(dataset_retail)\n",
        "\n",
        "#Detil tipe data\n",
        "dataset_retail.info()"
      ],
      "metadata": {
        "colab": {
          "base_uri": "https://localhost:8080/"
        },
        "id": "J7XLCYWF9Ijn",
        "outputId": "e8795aba-5a54-47b9-b6e8-0ddfa9e8fc66"
      },
      "execution_count": 2,
      "outputs": [
        {
          "output_type": "stream",
          "name": "stdout",
          "text": [
            "           no  Row_Num  Customer_ID Product  First_Transaction  \\\n",
            "0           1        1        29531   Jaket      1466304274396   \n",
            "1           2        2        29531  Sepatu      1406077331494   \n",
            "2           3        3       141526     Tas      1493349147000   \n",
            "3           4        4       141526   Jaket      1493362372547   \n",
            "4           5        5        37545  Sepatu      1429178498531   \n",
            "...       ...      ...          ...     ...                ...   \n",
            "99995   99996    99996        56249   Jaket      1464780939092   \n",
            "99996   99997    99997        56249  Sepatu      1486619170763   \n",
            "99997   99998    99998        34157   Jaket      1440924860706   \n",
            "99998   99999    99999        34157  Sepatu      1415932948026   \n",
            "99999  100000   100000       188822   Jaket      1540373764125   \n",
            "\n",
            "       Last_Transaction  Average_Transaction_Amount  Count_Transaction  \n",
            "0         1538718482608                     1467681                 22  \n",
            "1         1545735761270                     1269337                 41  \n",
            "2         1548322802000                      310915                 30  \n",
            "3         1547643603911                      722632                 27  \n",
            "4         1542891221530                     1775036                 25  \n",
            "...                 ...                         ...                ...  \n",
            "99995     1464780939092                      298662                  1  \n",
            "99996     1486619170763                      349556                  1  \n",
            "99997     1440924860706                      598013                  1  \n",
            "99998     1415932948026                     1208591                  1  \n",
            "99999     1540373764125                      486710                  1  \n",
            "\n",
            "[100000 rows x 8 columns]\n",
            "<class 'pandas.core.frame.DataFrame'>\n",
            "RangeIndex: 100000 entries, 0 to 99999\n",
            "Data columns (total 8 columns):\n",
            " #   Column                      Non-Null Count   Dtype \n",
            "---  ------                      --------------   ----- \n",
            " 0   no                          100000 non-null  int64 \n",
            " 1   Row_Num                     100000 non-null  int64 \n",
            " 2   Customer_ID                 100000 non-null  int64 \n",
            " 3   Product                     100000 non-null  object\n",
            " 4   First_Transaction           100000 non-null  int64 \n",
            " 5   Last_Transaction            100000 non-null  int64 \n",
            " 6   Average_Transaction_Amount  100000 non-null  int64 \n",
            " 7   Count_Transaction           100000 non-null  int64 \n",
            "dtypes: int64(7), object(1)\n",
            "memory usage: 6.1+ MB\n"
          ]
        }
      ]
    },
    {
      "cell_type": "code",
      "source": [],
      "metadata": {
        "id": "37TmdODB-c7r"
      },
      "execution_count": null,
      "outputs": []
    }
  ]
}