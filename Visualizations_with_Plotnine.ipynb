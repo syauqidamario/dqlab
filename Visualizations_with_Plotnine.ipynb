{
  "nbformat": 4,
  "nbformat_minor": 0,
  "metadata": {
    "colab": {
      "provenance": [],
      "authorship_tag": "ABX9TyNMAJ4HspWFbe66u8sBgbgX",
      "include_colab_link": true
    },
    "kernelspec": {
      "name": "python3",
      "display_name": "Python 3"
    },
    "language_info": {
      "name": "python"
    }
  },
  "cells": [
    {
      "cell_type": "markdown",
      "metadata": {
        "id": "view-in-github",
        "colab_type": "text"
      },
      "source": [
        "<a href=\"https://colab.research.google.com/github/syauqidamario/dqlab/blob/main/Visualizations_with_Plotnine.ipynb\" target=\"_parent\"><img src=\"https://colab.research.google.com/assets/colab-badge.svg\" alt=\"Open In Colab\"/></a>"
      ]
    },
    {
      "cell_type": "markdown",
      "source": [
        "**Visualisasi menggunakan plotnine**\n",
        "\n",
        "Package plotnine ini berdasarkan pada implementasi package ggplot2 yang terdapat di bahasa R, dan menggunakan pendekatan konstruksi bernama grammar of graphics yang dicetuskan oleh Leland Wilkinson. Dengan pendekatan ini, kita dapat membuat visualisasi data baik yang simpel maupun kompleks dengan mudah dan menarik.\n",
        "\n",
        "Plotnine sendiri dibuat di atas package matplotlib , yaitu salah satu package di Python yang umum digunakan untuk visualisasi data. Perbedaan antara plotnine dengan matplotlib adalah plotnine telah menyediakan berbagai fungsi yang mempermudah kita untuk membuat visualisasi data.\n",
        "\n",
        "Package plotnine juga dapat digunakan dengan mudah bersamaan dengan pandas , package Python yang\n",
        "biasanya digunakan untuk memanipulasi data."
      ],
      "metadata": {
        "id": "ADRx9p_ZFA_w"
      }
    },
    {
      "cell_type": "code",
      "execution_count": null,
      "metadata": {
        "id": "BPFZVFUHE_CX"
      },
      "outputs": [],
      "source": [
        "import matplotlib.pyplot as plt\n",
        "import plotnine as p9\n",
        "import pandas as pd"
      ]
    },
    {
      "cell_type": "markdown",
      "source": [
        "Terdapat dua dataset yang akan kita gunakan di modul ini:\n",
        "\n",
        "\n",
        "1. Data kependudukan DKI Jakarta, yang akan disimpan dalam variabel bernama df_penduduk\n",
        "2. Data inflasi Indonesia dan Singapura, yang akan disimpan dalam variabel bernama df_inflasi"
      ],
      "metadata": {
        "id": "OuY3uQkbFlX_"
      }
    },
    {
      "cell_type": "code",
      "source": [
        "import pandas as pd\n",
        "\n",
        "df_penduduk = pd.read_csv('https://storage.googleapis.com/dqlab-dataset/datakependudukandki-dqlab.csv')\n",
        "df_inflasi = pd.read_csv('https://storage.googleapis.com/dqlab-dataset/inflasi.csv')\n",
        "print(df_penduduk.head(5))\n",
        "print(df_inflasi.head(5))"
      ],
      "metadata": {
        "colab": {
          "base_uri": "https://localhost:8080/"
        },
        "id": "gtGM-b0mFQec",
        "outputId": "ce873835-ec03-4ffa-bb1b-a7fcabedbdde"
      },
      "execution_count": null,
      "outputs": [
        {
          "output_type": "stream",
          "name": "stdout",
          "text": [
            "   TAHUN         NAMA PROVINSI NAMA KABUPATEN/KOTA NAMA KECAMATAN  \\\n",
            "0   2013  PROVINSI DKI JAKARTA       JAKARTA BARAT     CENGKARENG   \n",
            "1   2013  PROVINSI DKI JAKARTA       JAKARTA BARAT     CENGKARENG   \n",
            "2   2013  PROVINSI DKI JAKARTA       JAKARTA BARAT     CENGKARENG   \n",
            "3   2013  PROVINSI DKI JAKARTA       JAKARTA BARAT     CENGKARENG   \n",
            "4   2013  PROVINSI DKI JAKARTA       JAKARTA BARAT     CENGKARENG   \n",
            "\n",
            "     NAMA KELURAHAN  LUAS WILAYAH (KM2)  KEPADATAN (JIWA/KM2) JENIS KELAMIN  \\\n",
            "0  CENGKARENG BARAT                4.26                 16409     Laki-laki   \n",
            "1  CENGKARENG BARAT                4.26                 16409     Perempuan   \n",
            "2  CENGKARENG BARAT                4.26                 16409     Laki-laki   \n",
            "3  CENGKARENG BARAT                4.26                 16409     Perempuan   \n",
            "4  CENGKARENG BARAT                4.26                 16409     Laki-laki   \n",
            "\n",
            "  RENTANG UMUR  JUMLAH  \n",
            "0        35-39    5316  \n",
            "1        35-39    3221  \n",
            "2        40-44    3137  \n",
            "3        40-44    6358  \n",
            "4        45-49    3675  \n",
            "      Bulan     Negara  Inflasi\n",
            "0  Jan-2017  Indonesia   0.0349\n",
            "1  Feb-2017  Indonesia   0.0383\n",
            "2  Mar-2017  Indonesia   0.0361\n",
            "3  Apr-2017  Indonesia   0.0417\n",
            "4  May-2017  Indonesia   0.0433\n"
          ]
        }
      ]
    },
    {
      "cell_type": "code",
      "source": [
        "# Membuat plot menggunakan fungsi ggplot\n",
        "from plotnine import *\n",
        "ggplot(data=df_penduduk).draw()\n",
        "plt.show()"
      ],
      "metadata": {
        "id": "Ea7B00NrFnwI"
      },
      "execution_count": null,
      "outputs": []
    },
    {
      "cell_type": "code",
      "source": [
        "# Menambahkan variabel\n",
        "(ggplot(data=df_penduduk)\n",
        " + aes(x='NAMA KABUPATEN/KOTA', y='JUMLAH')\n",
        ").draw()\n",
        "plt.show()"
      ],
      "metadata": {
        "id": "qCR9_slFGBX5"
      },
      "execution_count": null,
      "outputs": []
    },
    {
      "cell_type": "code",
      "source": [
        "# Mendefinisikan objek geometris\n",
        "(ggplot(data=df_penduduk)\n",
        " + aes(x='NAMA KABUPATEN/KOTA', y='JUMLAH')\n",
        " + geom_col()\n",
        ").draw()\n",
        "plt.show()"
      ],
      "metadata": {
        "id": "jYY1l3uGGSrg"
      },
      "execution_count": null,
      "outputs": []
    },
    {
      "cell_type": "code",
      "source": [
        "# Membuat horizontal bar chart\n",
        "import matplotlib.pyplot as plt\n",
        "from plotnine import *\n",
        "import pandas as pd\n",
        "\n",
        "df_penduduk = pd.read_csv('https://storage.googleapis.com/dqlab-dataset/datakependudukandki-dqlab.csv')\n",
        "\n",
        "(ggplot(data=df_penduduk)\n",
        " + aes(x='NAMA KABUPATEN/KOTA', y='JUMLAH')\n",
        " + geom_col()\n",
        " + coord_flip()\n",
        ").draw()\n",
        "\n",
        "plt.tight_layout()\n",
        "plt.show()"
      ],
      "metadata": {
        "colab": {
          "base_uri": "https://localhost:8080/",
          "height": 35
        },
        "id": "N8KZeyeqGfvr",
        "outputId": "a1a24c21-a001-4473-a5e6-14ea011335b2"
      },
      "execution_count": null,
      "outputs": [
        {
          "output_type": "display_data",
          "data": {
            "text/plain": [
              "<Figure size 640x480 with 0 Axes>"
            ]
          },
          "metadata": {}
        }
      ]
    },
    {
      "cell_type": "code",
      "source": [
        "import matplotlib.pyplot as plt\n",
        "from plotnine import *\n",
        "import plotnine\n",
        "import pandas as pd\n",
        "df_penduduk = pd.read_csv('https://storage.googleapis.com/dqlab-dataset/datakependudukandki-dqlab.csv')\n",
        "\n",
        "plotnine.options.figure_size=(12, 4.8)\n",
        "(ggplot(data=df_penduduk)\n",
        " + aes(x='NAMA KABUPATEN/KOTA', y='JUMLAH')\n",
        " + geom_col()\n",
        " + coord_flip()\n",
        " + labs(\n",
        "     title=\"Jumlah penduduk per kabupaten/kota di DKI Jakarta (2013)\",\n",
        "     x=\"Kabupaten/Kota\",\n",
        "     y=\"Jumlah Penduduk\"\n",
        " )\n",
        ").draw()\n",
        "\n",
        "plt.tight_layout(rect=[0, 0, 1, 0.9])\n",
        "plt.show()"
      ],
      "metadata": {
        "colab": {
          "base_uri": "https://localhost:8080/",
          "height": 35
        },
        "id": "qQhZNxJVG9Bt",
        "outputId": "4562cafb-2d14-46a8-9e0f-0cb694a9809d"
      },
      "execution_count": null,
      "outputs": [
        {
          "output_type": "display_data",
          "data": {
            "text/plain": [
              "<Figure size 640x480 with 0 Axes>"
            ]
          },
          "metadata": {}
        }
      ]
    },
    {
      "cell_type": "code",
      "source": [
        "# Menampilkan warna berbeda\n",
        "import matplotlib.pyplot as plt\n",
        "from plotnine import *\n",
        "import plotnine\n",
        "import pandas as pd\n",
        "df_penduduk = pd.read_csv('https://storage.googleapis.com/dqlab-dataset/datakependudukandki-dqlab.csv')\n",
        "\n",
        "plotnine.options.figure_size=(10, 3.6)\n",
        "(ggplot(data=df_penduduk)\n",
        "+ aes(x='NAMA KABUPATEN/KOTA', y='JUMLAH', fill='JENIS KELAMIN')\n",
        "+ geom_col()\n",
        "+ coord_flip()\n",
        "+ labs(title='Jumlah penduduk per kabupaten/kota di DKI Jakarta (2013)',\n",
        "x='Kabupaten/Kota',\n",
        "y='Jumlah Penduduk')\n",
        ").draw()\n",
        "plt.tight_layout(rect=[0,0,1,0.9])\n",
        "plt.show()"
      ],
      "metadata": {
        "colab": {
          "base_uri": "https://localhost:8080/",
          "height": 35
        },
        "id": "1jimqAJHHVwv",
        "outputId": "0a5a6ffd-2b58-449f-d7e5-7fab973f342f"
      },
      "execution_count": null,
      "outputs": [
        {
          "output_type": "display_data",
          "data": {
            "text/plain": [
              "<Figure size 640x480 with 0 Axes>"
            ]
          },
          "metadata": {}
        }
      ]
    },
    {
      "cell_type": "code",
      "source": [
        "plotnine.options.figure_size=(14, 3.6)\n",
        "(ggplot(data=df_penduduk[df_penduduk['NAMA KECAMATAN'] == 'CENGKARENG'])\n",
        " + aes(x='NAMA KELURAHAN', y='JUMLAH', fill='JENIS KELAMIN')\n",
        " + geom_col()\n",
        " + coord_flip()\n",
        " + labs(title='Jumlah penduduk per kelurahan di Kecamatan Cengkareng (2013)',\n",
        "        x='Kelurahan',\n",
        "        y='Jumlah Penduduk')\n",
        ").draw()\n",
        "plt.tight_layout(rect=[0,0,1,0.9])\n",
        "plt.show()"
      ],
      "metadata": {
        "colab": {
          "base_uri": "https://localhost:8080/",
          "height": 35
        },
        "id": "tqr1Vw6BII9s",
        "outputId": "5b57489d-eff1-4c14-8e3e-f5b759a94dbc"
      },
      "execution_count": null,
      "outputs": [
        {
          "output_type": "display_data",
          "data": {
            "text/plain": [
              "<Figure size 640x480 with 0 Axes>"
            ]
          },
          "metadata": {}
        }
      ]
    },
    {
      "cell_type": "code",
      "source": [
        "# Memisahkan grafik\n",
        "import matplotlib.pyplot as plt\n",
        "from plotnine import *\n",
        "import plotnine\n",
        "import pandas as pd\n",
        "df_penduduk = pd.read_csv('https://storage.googleapis.com/dqlab-dataset/datakependudukandki-dqlab.csv')\n",
        "\n",
        "plotnine.options.figure_size=(10, 3.6)\n",
        "(ggplot(data=df_penduduk[df_penduduk['NAMA KECAMATAN'] == 'CENGKARENG'])\n",
        " + aes(x='NAMA KELURAHAN', y='JUMLAH', fill='JENIS KELAMIN')\n",
        " + geom_col(position=position_dodge())\n",
        " + coord_flip()\n",
        " + labs(title='Jumlah penduduk per kelurahan di DKI Jakarta (2013)',\n",
        "       x='Kelurahan',\n",
        "       y='Jumlah Penduduk')\n",
        ").draw()\n",
        "plt.tight_layout(rect=[0,0,1,0.9])\n",
        "plt.show()"
      ],
      "metadata": {
        "colab": {
          "base_uri": "https://localhost:8080/",
          "height": 35
        },
        "id": "WfwyaKgMIw7c",
        "outputId": "f76fa2d8-a95f-4005-f7a9-b8a82c1760e2"
      },
      "execution_count": null,
      "outputs": [
        {
          "output_type": "display_data",
          "data": {
            "text/plain": [
              "<Figure size 640x480 with 0 Axes>"
            ]
          },
          "metadata": {}
        }
      ]
    },
    {
      "cell_type": "code",
      "source": [],
      "metadata": {
        "id": "-9RP2J9mI942"
      },
      "execution_count": null,
      "outputs": []
    }
  ]
}