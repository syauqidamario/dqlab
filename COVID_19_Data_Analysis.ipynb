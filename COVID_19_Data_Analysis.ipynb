{
  "nbformat": 4,
  "nbformat_minor": 0,
  "metadata": {
    "colab": {
      "provenance": [],
      "authorship_tag": "ABX9TyMvhoeFpWO9B1Mu9Z7z1G9T",
      "include_colab_link": true
    },
    "kernelspec": {
      "name": "python3",
      "display_name": "Python 3"
    },
    "language_info": {
      "name": "python"
    }
  },
  "cells": [
    {
      "cell_type": "markdown",
      "metadata": {
        "id": "view-in-github",
        "colab_type": "text"
      },
      "source": [
        "<a href=\"https://colab.research.google.com/github/syauqidamario/dqlab/blob/main/COVID_19_Data_Analysis.ipynb\" target=\"_parent\"><img src=\"https://colab.research.google.com/assets/colab-badge.svg\" alt=\"Open In Colab\"/></a>"
      ]
    },
    {
      "cell_type": "code",
      "execution_count": 1,
      "metadata": {
        "id": "HY3ftGdoZzZ7"
      },
      "outputs": [],
      "source": [
        "import numpy as np\n",
        "import pandas as pd"
      ]
    },
    {
      "cell_type": "code",
      "source": [
        "pd.set_option(\"display.max_columns\", None)\n",
        "\n",
        "import ssl\n",
        "ssl._create_default_https_context = ssl._create_unverified_context\n",
        "\n",
        "covid_url = \"https://storage.googleapis.com/dqlab-dataset/covid19_worldwide_2020.json\"\n",
        "df_covid_worldwide = pd.read_json(covid_url)\n",
        "\n",
        "print(\"Ukuran dataset: %d kolom dan %d baris.\\n\" % df_covid_worldwide.shape)\n",
        "print(\"Lima data teratas:\\n\", df_covid_worldwide.head())\n",
        "print(\"\\nLima data terbawah:\\n\", df_covid_worldwide.tail())"
      ],
      "metadata": {
        "colab": {
          "base_uri": "https://localhost:8080/"
        },
        "id": "e3FqCzLuZ6YW",
        "outputId": "763001b7-c99a-401a-ecbc-fa59f6a61140"
      },
      "execution_count": 4,
      "outputs": [
        {
          "output_type": "stream",
          "name": "stdout",
          "text": [
            "Ukuran dataset: 61900 kolom dan 6 baris.\n",
            "\n",
            "Lima data teratas:\n",
            "         date  daily_confirmed_cases  daily_deaths  confirmed_cases  deaths  \\\n",
            "0 2020-03-20                      1             0                1       0   \n",
            "1 2020-03-21                      0             0                1       0   \n",
            "2 2020-03-22                      1             0                2       0   \n",
            "3 2020-03-23                      0             0                2       0   \n",
            "4 2020-03-24                      0             0                2       0   \n",
            "\n",
            "  geo_id  \n",
            "0     TD  \n",
            "1     TD  \n",
            "2     TD  \n",
            "3     TD  \n",
            "4     TD  \n",
            "\n",
            "Lima data terbawah:\n",
            "             date  daily_confirmed_cases  daily_deaths  confirmed_cases  \\\n",
            "61895 2020-02-24                     57             1              691   \n",
            "61896 2020-02-26                      0             1              691   \n",
            "61897 2020-03-10                     -9             1              696   \n",
            "61898 2020-02-20                     79             2              621   \n",
            "61899 2020-02-29                      0             2              705   \n",
            "\n",
            "       deaths    geo_id  \n",
            "61895       3  JPG11668  \n",
            "61896       4  JPG11668  \n",
            "61897       7  JPG11668  \n",
            "61898       2  JPG11668  \n",
            "61899       6  JPG11668  \n"
          ]
        }
      ]
    },
    {
      "cell_type": "code",
      "source": [
        "print(\"Informasi data frame awal:\")\n",
        "df_covid_worldwide.info()\n",
        "\n",
        "# Set kolom date sebagai index dan urutkan berdasarkan index\n",
        "df_covid_worldwide = df_covid_worldwide.set_index(\"date\").sort_index()\n",
        "\n",
        "print(\"\\nInformasi data frame setelah set index kolom date:\")\n",
        "df_covid_worldwide.info()"
      ],
      "metadata": {
        "colab": {
          "base_uri": "https://localhost:8080/"
        },
        "id": "o59rnifKaIGL",
        "outputId": "1fafddc6-a77f-423d-d9cb-f47e2bc2475e"
      },
      "execution_count": 5,
      "outputs": [
        {
          "output_type": "stream",
          "name": "stdout",
          "text": [
            "Informasi data frame awal:\n",
            "<class 'pandas.core.frame.DataFrame'>\n",
            "Index: 61900 entries, 0 to 61899\n",
            "Data columns (total 6 columns):\n",
            " #   Column                 Non-Null Count  Dtype         \n",
            "---  ------                 --------------  -----         \n",
            " 0   date                   61900 non-null  datetime64[ns]\n",
            " 1   daily_confirmed_cases  61900 non-null  int64         \n",
            " 2   daily_deaths           61900 non-null  int64         \n",
            " 3   confirmed_cases        61900 non-null  int64         \n",
            " 4   deaths                 61900 non-null  int64         \n",
            " 5   geo_id                 61625 non-null  object        \n",
            "dtypes: datetime64[ns](1), int64(4), object(1)\n",
            "memory usage: 3.3+ MB\n",
            "\n",
            "Informasi data frame setelah set index kolom date:\n",
            "<class 'pandas.core.frame.DataFrame'>\n",
            "DatetimeIndex: 61900 entries, 2019-12-31 to 2020-12-14\n",
            "Data columns (total 5 columns):\n",
            " #   Column                 Non-Null Count  Dtype \n",
            "---  ------                 --------------  ----- \n",
            " 0   daily_confirmed_cases  61900 non-null  int64 \n",
            " 1   daily_deaths           61900 non-null  int64 \n",
            " 2   confirmed_cases        61900 non-null  int64 \n",
            " 3   deaths                 61900 non-null  int64 \n",
            " 4   geo_id                 61625 non-null  object\n",
            "dtypes: int64(4), object(1)\n",
            "memory usage: 2.8+ MB\n"
          ]
        }
      ]
    },
    {
      "cell_type": "code",
      "source": [
        "# Menghapus baris data tanpa nilai\n",
        "print(\"Jumlah missing value tiap kolom:\")\n",
        "print(df_covid_worldwide.isna().sum())\n",
        "\n",
        "df_covid_worldwide.dropna(inplace=True)\n",
        "\n",
        "print(\"\\nJumlah missing value tiap kolom setelah didrop:\")\n",
        "print(df_covid_worldwide.isna().sum())"
      ],
      "metadata": {
        "colab": {
          "base_uri": "https://localhost:8080/"
        },
        "id": "LiKkJddKao5d",
        "outputId": "860271ac-c3fd-457c-cb92-ca69ee3229ff"
      },
      "execution_count": 8,
      "outputs": [
        {
          "output_type": "stream",
          "name": "stdout",
          "text": [
            "Jumlah missing value tiap kolom:\n",
            "daily_confirmed_cases    0\n",
            "daily_deaths             0\n",
            "confirmed_cases          0\n",
            "deaths                   0\n",
            "geo_id                   0\n",
            "dtype: int64\n",
            "\n",
            "Jumlah missing value tiap kolom setelah didrop:\n",
            "daily_confirmed_cases    0\n",
            "daily_deaths             0\n",
            "confirmed_cases          0\n",
            "deaths                   0\n",
            "geo_id                   0\n",
            "dtype: int64\n"
          ]
        }
      ]
    },
    {
      "cell_type": "code",
      "source": [
        "# Membaca data countries\n",
        "countries_url = \"https://storage.googleapis.com/dqlab-dataset/country_details.json\"\n",
        "df_countries = pd.read_json(countries_url)\n",
        "print(df_countries.head())"
      ],
      "metadata": {
        "colab": {
          "base_uri": "https://localhost:8080/"
        },
        "id": "H_0jKhDfa5g4",
        "outputId": "ee6c6255-8e37-4eb5-83cc-87a501f4de06"
      },
      "execution_count": 9,
      "outputs": [
        {
          "output_type": "stream",
          "name": "stdout",
          "text": [
            "  geo_id country_name\n",
            "0     TD         Chad\n",
            "1     CU         Cuba\n",
            "2     FJ         Fiji\n",
            "3     GU         Guam\n",
            "4     IR         Iran\n"
          ]
        }
      ]
    },
    {
      "cell_type": "code",
      "source": [
        "# Merge Covid19 Data dan Countries\n",
        "df_covid_denormalized = pd.merge(df_covid_worldwide.reset_index(), df_countries, on=\"geo_id\").set_index(\"date\")\n",
        "\n",
        "print(df_covid_denormalized.head())"
      ],
      "metadata": {
        "colab": {
          "base_uri": "https://localhost:8080/"
        },
        "id": "xXRRhxOxbc_H",
        "outputId": "fcfee720-332c-4dd3-f417-d219d5af3d1e"
      },
      "execution_count": 11,
      "outputs": [
        {
          "output_type": "stream",
          "name": "stdout",
          "text": [
            "            daily_confirmed_cases  daily_deaths  confirmed_cases  deaths  \\\n",
            "date                                                                       \n",
            "2019-12-31                      0             0                0       0   \n",
            "2019-12-31                      0             0                0       0   \n",
            "2019-12-31                      0             0                0       0   \n",
            "2019-12-31                      0             0                0       0   \n",
            "2019-12-31                     27             0               27       0   \n",
            "\n",
            "           geo_id country_name  \n",
            "date                            \n",
            "2019-12-31     IN        India  \n",
            "2019-12-31     IR         Iran  \n",
            "2019-12-31     PK     Pakistan  \n",
            "2019-12-31     AM      Armenia  \n",
            "2019-12-31     CN        China  \n"
          ]
        }
      ]
    },
    {
      "cell_type": "code",
      "source": [
        "# Menghitung fatality ratio\n",
        "df_covid_denormalized[\"fatality_ratio\"] = df_covid_denormalized[\"deaths\"]/df_covid_denormalized[\"confirmed_cases\"].replace(0, np.nan)\n",
        "print(df_covid_denormalized.head())"
      ],
      "metadata": {
        "colab": {
          "base_uri": "https://localhost:8080/"
        },
        "id": "viLbXeh6btRa",
        "outputId": "6ef7a531-85a5-4b2c-d887-fcb0f639a57e"
      },
      "execution_count": 17,
      "outputs": [
        {
          "output_type": "stream",
          "name": "stdout",
          "text": [
            "            daily_confirmed_cases  daily_deaths  confirmed_cases  deaths  \\\n",
            "date                                                                       \n",
            "2019-12-31                      0             0                0       0   \n",
            "2019-12-31                      0             0                0       0   \n",
            "2019-12-31                      0             0                0       0   \n",
            "2019-12-31                      0             0                0       0   \n",
            "2019-12-31                     27             0               27       0   \n",
            "\n",
            "           geo_id country_name  fatality_ratio  \n",
            "date                                            \n",
            "2019-12-31     IN        India             NaN  \n",
            "2019-12-31     IR         Iran             NaN  \n",
            "2019-12-31     PK     Pakistan             NaN  \n",
            "2019-12-31     AM      Armenia             NaN  \n",
            "2019-12-31     CN        China             0.0  \n"
          ]
        }
      ]
    },
    {
      "cell_type": "code",
      "source": [
        "# Fatality ratio tertinggi\n",
        "df_top_20_fatality_rate = df_covid_denormalized.sort_values(\"fatality_ratio\", ascending=False).head(20)\n",
        "print(df_top_20_fatality_rate[[\"geo_id\",\"country_name\",\"fatality_ratio\"]])"
      ],
      "metadata": {
        "colab": {
          "base_uri": "https://localhost:8080/"
        },
        "id": "OQJmfrP2b-0n",
        "outputId": "a7c8d32d-2a44-4e41-8650-447744edaddf"
      },
      "execution_count": 18,
      "outputs": [
        {
          "output_type": "stream",
          "name": "stdout",
          "text": [
            "           geo_id country_name  fatality_ratio\n",
            "date                                          \n",
            "2020-03-15     SD        Sudan             1.0\n",
            "2020-03-16     GT    Guatemala             1.0\n",
            "2020-03-18     SD        Sudan             1.0\n",
            "2020-03-13     GY       Guyana             1.0\n",
            "2020-02-20     IR         Iran             1.0\n",
            "2020-03-17     SD        Sudan             1.0\n",
            "2020-03-16     SD        Sudan             1.0\n",
            "2020-03-19     SD        Sudan             0.5\n",
            "2020-03-22     SD        Sudan             0.5\n",
            "2020-03-24     SD        Sudan             0.5\n",
            "2020-03-24     GM       Gambia             0.5\n",
            "2020-03-23     SD        Sudan             0.5\n",
            "2020-03-25     ZW     Zimbabwe             0.5\n",
            "2020-03-24     ZW     Zimbabwe             0.5\n",
            "2020-03-20     SD        Sudan             0.5\n",
            "2020-03-21     SD        Sudan             0.5\n",
            "2020-03-28     NI    Nicaragua             0.5\n",
            "2020-02-02     PH  Philippines             0.5\n",
            "2020-02-03     PH  Philippines             0.5\n",
            "2020-02-05     PH  Philippines             0.5\n"
          ]
        }
      ]
    },
    {
      "cell_type": "code",
      "source": [
        "# Fatality ratio tertinggi bulan Agustus 2020\n",
        "df_covid_denormalized[\"month\"] = df_covid_denormalized.index.month\n",
        "df_covid_denormalized[\"year\"] = df_covid_denormalized.index.year\n",
        "df_august_2020 = df_covid_denormalized[(df_covid_denormalized[\"month\"] == 8) & (df_covid_denormalized[\"year\"] == 2020)]\n",
        "df_top_20_fatality_rate_august = df_august_2020.sort_values(\"fatality_ratio\", ascending=False).head(20)\n",
        "print(df_top_20_fatality_rate_august[[\"geo_id\",\"country_name\",\"fatality_ratio\"]])"
      ],
      "metadata": {
        "colab": {
          "base_uri": "https://localhost:8080/"
        },
        "id": "2Q-Zokihcdyv",
        "outputId": "53e6f0b1-0630-48a2-cad9-57118680e97f"
      },
      "execution_count": 19,
      "outputs": [
        {
          "output_type": "stream",
          "name": "stdout",
          "text": [
            "           geo_id country_name  fatality_ratio\n",
            "date                                          \n",
            "2020-08-28     YE        Yemen        0.290589\n",
            "2020-08-27     YE        Yemen        0.290155\n",
            "2020-08-29     YE        Yemen        0.289758\n",
            "2020-08-30     YE        Yemen        0.289676\n",
            "2020-08-25     YE        Yemen        0.289666\n",
            "2020-08-26     YE        Yemen        0.289501\n",
            "2020-08-31     YE        Yemen        0.288786\n",
            "2020-08-07     YE        Yemen        0.288059\n",
            "2020-08-06     YE        Yemen        0.287982\n",
            "2020-08-05     YE        Yemen        0.287500\n",
            "2020-08-04     YE        Yemen        0.287112\n",
            "2020-08-13     YE        Yemen        0.286801\n",
            "2020-08-03     YE        Yemen        0.286621\n",
            "2020-08-23     YE        Yemen        0.286314\n",
            "2020-08-24     YE        Yemen        0.286238\n",
            "2020-08-14     YE        Yemen        0.285869\n",
            "2020-08-12     YE        Yemen        0.285636\n",
            "2020-08-02     YE        Yemen        0.285549\n",
            "2020-08-10     YE        Yemen        0.285477\n",
            "2020-08-01     YE        Yemen        0.285301\n"
          ]
        }
      ]
    },
    {
      "cell_type": "code",
      "source": [
        "# Fatality ratio tertinggi bulan Desember 2020\n",
        "df_covid_denormalized[\"month\"] = df_covid_denormalized.index.month\n",
        "df_covid_denormalized[\"year\"] = df_covid_denormalized.index.year\n",
        "df_august_2020 = df_covid_denormalized[(df_covid_denormalized[\"month\"] == 12) & (df_covid_denormalized[\"year\"] == 2020)]\n",
        "df_top_20_fatality_rate_august = df_august_2020.sort_values(\"fatality_ratio\", ascending=False).head(20)\n",
        "print(df_top_20_fatality_rate_august[[\"geo_id\",\"country_name\",\"fatality_ratio\"]])"
      ],
      "metadata": {
        "colab": {
          "base_uri": "https://localhost:8080/"
        },
        "id": "DHDlYOHScrb3",
        "outputId": "0447c7f5-e92d-4ed2-87ca-2799f8cf0f15"
      },
      "execution_count": 20,
      "outputs": [
        {
          "output_type": "stream",
          "name": "stdout",
          "text": [
            "           geo_id country_name  fatality_ratio\n",
            "date                                          \n",
            "2020-12-06     YE        Yemen        0.291767\n",
            "2020-12-05     YE        Yemen        0.291767\n",
            "2020-12-04     YE        Yemen        0.291767\n",
            "2020-12-07     YE        Yemen        0.291767\n",
            "2020-12-08     YE        Yemen        0.291627\n",
            "2020-12-09     YE        Yemen        0.291486\n",
            "2020-12-10     YE        Yemen        0.291486\n",
            "2020-12-03     YE        Yemen        0.291286\n",
            "2020-12-02     YE        Yemen        0.291286\n",
            "2020-12-01     YE        Yemen        0.291286\n",
            "2020-12-11     YE        Yemen        0.291206\n",
            "2020-12-12     YE        Yemen        0.291066\n",
            "2020-12-13     YE        Yemen        0.290927\n",
            "2020-12-14     YE        Yemen        0.290927\n",
            "2020-12-01     MX       Mexico        0.095138\n",
            "2020-12-02     MX       Mexico        0.095125\n",
            "2020-12-03     MX       Mexico        0.094887\n",
            "2020-12-04     MX       Mexico        0.094504\n",
            "2020-12-05     MX       Mexico        0.094109\n",
            "2020-12-09     MX       Mexico        0.093703\n"
          ]
        }
      ]
    },
    {
      "cell_type": "code",
      "source": [
        "# Visualisasi Negara dengan Fatality Ratio Tertinggi di Bulan Agustus 2020\n",
        "\n",
        "import plotly.express as px\n",
        "\n",
        "fig = px.bar(df_top_20_fatality_rate_august, x=\"country_name\", y=\"fatality_ratio\", color=\"country_name\", title=\"Fatality Ratio Tertinggi di Bulan Agustus 2020\")\n",
        "fig.show()"
      ],
      "metadata": {
        "colab": {
          "base_uri": "https://localhost:8080/",
          "height": 542
        },
        "id": "ylh_SnuQcy-D",
        "outputId": "d56b6b0d-55c8-4a43-cb6e-6c11ad39a8e3"
      },
      "execution_count": 24,
      "outputs": [
        {
          "output_type": "display_data",
          "data": {
            "text/html": [
              "<html>\n",
              "<head><meta charset=\"utf-8\" /></head>\n",
              "<body>\n",
              "    <div>            <script src=\"https://cdnjs.cloudflare.com/ajax/libs/mathjax/2.7.5/MathJax.js?config=TeX-AMS-MML_SVG\"></script><script type=\"text/javascript\">if (window.MathJax && window.MathJax.Hub && window.MathJax.Hub.Config) {window.MathJax.Hub.Config({SVG: {font: \"STIX-Web\"}});}</script>                <script type=\"text/javascript\">window.PlotlyConfig = {MathJaxConfig: 'local'};</script>\n",
              "        <script charset=\"utf-8\" src=\"https://cdn.plot.ly/plotly-2.35.2.min.js\"></script>                <div id=\"259b9c00-0f52-44cb-95cb-fcb4668d8a5a\" class=\"plotly-graph-div\" style=\"height:525px; width:100%;\"></div>            <script type=\"text/javascript\">                                    window.PLOTLYENV=window.PLOTLYENV || {};                                    if (document.getElementById(\"259b9c00-0f52-44cb-95cb-fcb4668d8a5a\")) {                    Plotly.newPlot(                        \"259b9c00-0f52-44cb-95cb-fcb4668d8a5a\",                        [{\"alignmentgroup\":\"True\",\"hovertemplate\":\"country_name=%{x}\\u003cbr\\u003efatality_ratio=%{y}\\u003cextra\\u003e\\u003c\\u002fextra\\u003e\",\"legendgroup\":\"Yemen\",\"marker\":{\"color\":\"#636efa\",\"pattern\":{\"shape\":\"\"}},\"name\":\"Yemen\",\"offsetgroup\":\"Yemen\",\"orientation\":\"v\",\"showlegend\":true,\"textposition\":\"auto\",\"x\":[\"Yemen\",\"Yemen\",\"Yemen\",\"Yemen\",\"Yemen\",\"Yemen\",\"Yemen\",\"Yemen\",\"Yemen\",\"Yemen\",\"Yemen\",\"Yemen\",\"Yemen\",\"Yemen\"],\"xaxis\":\"x\",\"y\":[0.2917669715936447,0.2917669715936447,0.2917669715936447,0.2917669715936447,0.29162656400384984,0.29148629148629146,0.29148629148629146,0.2912855079441502,0.2912855079441502,0.2912855079441502,0.29120615088899565,0.2910662824207493,0.29092654824771963,0.29092654824771963],\"yaxis\":\"y\",\"type\":\"bar\"},{\"alignmentgroup\":\"True\",\"hovertemplate\":\"country_name=%{x}\\u003cbr\\u003efatality_ratio=%{y}\\u003cextra\\u003e\\u003c\\u002fextra\\u003e\",\"legendgroup\":\"Mexico\",\"marker\":{\"color\":\"#EF553B\",\"pattern\":{\"shape\":\"\"}},\"name\":\"Mexico\",\"offsetgroup\":\"Mexico\",\"orientation\":\"v\",\"showlegend\":true,\"textposition\":\"auto\",\"x\":[\"Mexico\",\"Mexico\",\"Mexico\",\"Mexico\",\"Mexico\",\"Mexico\"],\"xaxis\":\"x\",\"y\":[0.0951377719585144,0.09512528043536755,0.09488687938476359,0.09450370115398425,0.09410945996179015,0.09370254087242395],\"yaxis\":\"y\",\"type\":\"bar\"}],                        {\"template\":{\"data\":{\"histogram2dcontour\":[{\"type\":\"histogram2dcontour\",\"colorbar\":{\"outlinewidth\":0,\"ticks\":\"\"},\"colorscale\":[[0.0,\"#0d0887\"],[0.1111111111111111,\"#46039f\"],[0.2222222222222222,\"#7201a8\"],[0.3333333333333333,\"#9c179e\"],[0.4444444444444444,\"#bd3786\"],[0.5555555555555556,\"#d8576b\"],[0.6666666666666666,\"#ed7953\"],[0.7777777777777778,\"#fb9f3a\"],[0.8888888888888888,\"#fdca26\"],[1.0,\"#f0f921\"]]}],\"choropleth\":[{\"type\":\"choropleth\",\"colorbar\":{\"outlinewidth\":0,\"ticks\":\"\"}}],\"histogram2d\":[{\"type\":\"histogram2d\",\"colorbar\":{\"outlinewidth\":0,\"ticks\":\"\"},\"colorscale\":[[0.0,\"#0d0887\"],[0.1111111111111111,\"#46039f\"],[0.2222222222222222,\"#7201a8\"],[0.3333333333333333,\"#9c179e\"],[0.4444444444444444,\"#bd3786\"],[0.5555555555555556,\"#d8576b\"],[0.6666666666666666,\"#ed7953\"],[0.7777777777777778,\"#fb9f3a\"],[0.8888888888888888,\"#fdca26\"],[1.0,\"#f0f921\"]]}],\"heatmap\":[{\"type\":\"heatmap\",\"colorbar\":{\"outlinewidth\":0,\"ticks\":\"\"},\"colorscale\":[[0.0,\"#0d0887\"],[0.1111111111111111,\"#46039f\"],[0.2222222222222222,\"#7201a8\"],[0.3333333333333333,\"#9c179e\"],[0.4444444444444444,\"#bd3786\"],[0.5555555555555556,\"#d8576b\"],[0.6666666666666666,\"#ed7953\"],[0.7777777777777778,\"#fb9f3a\"],[0.8888888888888888,\"#fdca26\"],[1.0,\"#f0f921\"]]}],\"heatmapgl\":[{\"type\":\"heatmapgl\",\"colorbar\":{\"outlinewidth\":0,\"ticks\":\"\"},\"colorscale\":[[0.0,\"#0d0887\"],[0.1111111111111111,\"#46039f\"],[0.2222222222222222,\"#7201a8\"],[0.3333333333333333,\"#9c179e\"],[0.4444444444444444,\"#bd3786\"],[0.5555555555555556,\"#d8576b\"],[0.6666666666666666,\"#ed7953\"],[0.7777777777777778,\"#fb9f3a\"],[0.8888888888888888,\"#fdca26\"],[1.0,\"#f0f921\"]]}],\"contourcarpet\":[{\"type\":\"contourcarpet\",\"colorbar\":{\"outlinewidth\":0,\"ticks\":\"\"}}],\"contour\":[{\"type\":\"contour\",\"colorbar\":{\"outlinewidth\":0,\"ticks\":\"\"},\"colorscale\":[[0.0,\"#0d0887\"],[0.1111111111111111,\"#46039f\"],[0.2222222222222222,\"#7201a8\"],[0.3333333333333333,\"#9c179e\"],[0.4444444444444444,\"#bd3786\"],[0.5555555555555556,\"#d8576b\"],[0.6666666666666666,\"#ed7953\"],[0.7777777777777778,\"#fb9f3a\"],[0.8888888888888888,\"#fdca26\"],[1.0,\"#f0f921\"]]}],\"surface\":[{\"type\":\"surface\",\"colorbar\":{\"outlinewidth\":0,\"ticks\":\"\"},\"colorscale\":[[0.0,\"#0d0887\"],[0.1111111111111111,\"#46039f\"],[0.2222222222222222,\"#7201a8\"],[0.3333333333333333,\"#9c179e\"],[0.4444444444444444,\"#bd3786\"],[0.5555555555555556,\"#d8576b\"],[0.6666666666666666,\"#ed7953\"],[0.7777777777777778,\"#fb9f3a\"],[0.8888888888888888,\"#fdca26\"],[1.0,\"#f0f921\"]]}],\"mesh3d\":[{\"type\":\"mesh3d\",\"colorbar\":{\"outlinewidth\":0,\"ticks\":\"\"}}],\"scatter\":[{\"fillpattern\":{\"fillmode\":\"overlay\",\"size\":10,\"solidity\":0.2},\"type\":\"scatter\"}],\"parcoords\":[{\"type\":\"parcoords\",\"line\":{\"colorbar\":{\"outlinewidth\":0,\"ticks\":\"\"}}}],\"scatterpolargl\":[{\"type\":\"scatterpolargl\",\"marker\":{\"colorbar\":{\"outlinewidth\":0,\"ticks\":\"\"}}}],\"bar\":[{\"error_x\":{\"color\":\"#2a3f5f\"},\"error_y\":{\"color\":\"#2a3f5f\"},\"marker\":{\"line\":{\"color\":\"#E5ECF6\",\"width\":0.5},\"pattern\":{\"fillmode\":\"overlay\",\"size\":10,\"solidity\":0.2}},\"type\":\"bar\"}],\"scattergeo\":[{\"type\":\"scattergeo\",\"marker\":{\"colorbar\":{\"outlinewidth\":0,\"ticks\":\"\"}}}],\"scatterpolar\":[{\"type\":\"scatterpolar\",\"marker\":{\"colorbar\":{\"outlinewidth\":0,\"ticks\":\"\"}}}],\"histogram\":[{\"marker\":{\"pattern\":{\"fillmode\":\"overlay\",\"size\":10,\"solidity\":0.2}},\"type\":\"histogram\"}],\"scattergl\":[{\"type\":\"scattergl\",\"marker\":{\"colorbar\":{\"outlinewidth\":0,\"ticks\":\"\"}}}],\"scatter3d\":[{\"type\":\"scatter3d\",\"line\":{\"colorbar\":{\"outlinewidth\":0,\"ticks\":\"\"}},\"marker\":{\"colorbar\":{\"outlinewidth\":0,\"ticks\":\"\"}}}],\"scattermapbox\":[{\"type\":\"scattermapbox\",\"marker\":{\"colorbar\":{\"outlinewidth\":0,\"ticks\":\"\"}}}],\"scatterternary\":[{\"type\":\"scatterternary\",\"marker\":{\"colorbar\":{\"outlinewidth\":0,\"ticks\":\"\"}}}],\"scattercarpet\":[{\"type\":\"scattercarpet\",\"marker\":{\"colorbar\":{\"outlinewidth\":0,\"ticks\":\"\"}}}],\"carpet\":[{\"aaxis\":{\"endlinecolor\":\"#2a3f5f\",\"gridcolor\":\"white\",\"linecolor\":\"white\",\"minorgridcolor\":\"white\",\"startlinecolor\":\"#2a3f5f\"},\"baxis\":{\"endlinecolor\":\"#2a3f5f\",\"gridcolor\":\"white\",\"linecolor\":\"white\",\"minorgridcolor\":\"white\",\"startlinecolor\":\"#2a3f5f\"},\"type\":\"carpet\"}],\"table\":[{\"cells\":{\"fill\":{\"color\":\"#EBF0F8\"},\"line\":{\"color\":\"white\"}},\"header\":{\"fill\":{\"color\":\"#C8D4E3\"},\"line\":{\"color\":\"white\"}},\"type\":\"table\"}],\"barpolar\":[{\"marker\":{\"line\":{\"color\":\"#E5ECF6\",\"width\":0.5},\"pattern\":{\"fillmode\":\"overlay\",\"size\":10,\"solidity\":0.2}},\"type\":\"barpolar\"}],\"pie\":[{\"automargin\":true,\"type\":\"pie\"}]},\"layout\":{\"autotypenumbers\":\"strict\",\"colorway\":[\"#636efa\",\"#EF553B\",\"#00cc96\",\"#ab63fa\",\"#FFA15A\",\"#19d3f3\",\"#FF6692\",\"#B6E880\",\"#FF97FF\",\"#FECB52\"],\"font\":{\"color\":\"#2a3f5f\"},\"hovermode\":\"closest\",\"hoverlabel\":{\"align\":\"left\"},\"paper_bgcolor\":\"white\",\"plot_bgcolor\":\"#E5ECF6\",\"polar\":{\"bgcolor\":\"#E5ECF6\",\"angularaxis\":{\"gridcolor\":\"white\",\"linecolor\":\"white\",\"ticks\":\"\"},\"radialaxis\":{\"gridcolor\":\"white\",\"linecolor\":\"white\",\"ticks\":\"\"}},\"ternary\":{\"bgcolor\":\"#E5ECF6\",\"aaxis\":{\"gridcolor\":\"white\",\"linecolor\":\"white\",\"ticks\":\"\"},\"baxis\":{\"gridcolor\":\"white\",\"linecolor\":\"white\",\"ticks\":\"\"},\"caxis\":{\"gridcolor\":\"white\",\"linecolor\":\"white\",\"ticks\":\"\"}},\"coloraxis\":{\"colorbar\":{\"outlinewidth\":0,\"ticks\":\"\"}},\"colorscale\":{\"sequential\":[[0.0,\"#0d0887\"],[0.1111111111111111,\"#46039f\"],[0.2222222222222222,\"#7201a8\"],[0.3333333333333333,\"#9c179e\"],[0.4444444444444444,\"#bd3786\"],[0.5555555555555556,\"#d8576b\"],[0.6666666666666666,\"#ed7953\"],[0.7777777777777778,\"#fb9f3a\"],[0.8888888888888888,\"#fdca26\"],[1.0,\"#f0f921\"]],\"sequentialminus\":[[0.0,\"#0d0887\"],[0.1111111111111111,\"#46039f\"],[0.2222222222222222,\"#7201a8\"],[0.3333333333333333,\"#9c179e\"],[0.4444444444444444,\"#bd3786\"],[0.5555555555555556,\"#d8576b\"],[0.6666666666666666,\"#ed7953\"],[0.7777777777777778,\"#fb9f3a\"],[0.8888888888888888,\"#fdca26\"],[1.0,\"#f0f921\"]],\"diverging\":[[0,\"#8e0152\"],[0.1,\"#c51b7d\"],[0.2,\"#de77ae\"],[0.3,\"#f1b6da\"],[0.4,\"#fde0ef\"],[0.5,\"#f7f7f7\"],[0.6,\"#e6f5d0\"],[0.7,\"#b8e186\"],[0.8,\"#7fbc41\"],[0.9,\"#4d9221\"],[1,\"#276419\"]]},\"xaxis\":{\"gridcolor\":\"white\",\"linecolor\":\"white\",\"ticks\":\"\",\"title\":{\"standoff\":15},\"zerolinecolor\":\"white\",\"automargin\":true,\"zerolinewidth\":2},\"yaxis\":{\"gridcolor\":\"white\",\"linecolor\":\"white\",\"ticks\":\"\",\"title\":{\"standoff\":15},\"zerolinecolor\":\"white\",\"automargin\":true,\"zerolinewidth\":2},\"scene\":{\"xaxis\":{\"backgroundcolor\":\"#E5ECF6\",\"gridcolor\":\"white\",\"linecolor\":\"white\",\"showbackground\":true,\"ticks\":\"\",\"zerolinecolor\":\"white\",\"gridwidth\":2},\"yaxis\":{\"backgroundcolor\":\"#E5ECF6\",\"gridcolor\":\"white\",\"linecolor\":\"white\",\"showbackground\":true,\"ticks\":\"\",\"zerolinecolor\":\"white\",\"gridwidth\":2},\"zaxis\":{\"backgroundcolor\":\"#E5ECF6\",\"gridcolor\":\"white\",\"linecolor\":\"white\",\"showbackground\":true,\"ticks\":\"\",\"zerolinecolor\":\"white\",\"gridwidth\":2}},\"shapedefaults\":{\"line\":{\"color\":\"#2a3f5f\"}},\"annotationdefaults\":{\"arrowcolor\":\"#2a3f5f\",\"arrowhead\":0,\"arrowwidth\":1},\"geo\":{\"bgcolor\":\"white\",\"landcolor\":\"#E5ECF6\",\"subunitcolor\":\"white\",\"showland\":true,\"showlakes\":true,\"lakecolor\":\"white\"},\"title\":{\"x\":0.05},\"mapbox\":{\"style\":\"light\"}}},\"xaxis\":{\"anchor\":\"y\",\"domain\":[0.0,1.0],\"title\":{\"text\":\"country_name\"},\"categoryorder\":\"array\",\"categoryarray\":[\"Yemen\",\"Mexico\"]},\"yaxis\":{\"anchor\":\"x\",\"domain\":[0.0,1.0],\"title\":{\"text\":\"fatality_ratio\"}},\"legend\":{\"title\":{\"text\":\"country_name\"},\"tracegroupgap\":0},\"title\":{\"text\":\"Fatality Ratio Tertinggi di Bulan Agustus 2020\"},\"barmode\":\"relative\"},                        {\"responsive\": true}                    ).then(function(){\n",
              "                            \n",
              "var gd = document.getElementById('259b9c00-0f52-44cb-95cb-fcb4668d8a5a');\n",
              "var x = new MutationObserver(function (mutations, observer) {{\n",
              "        var display = window.getComputedStyle(gd).display;\n",
              "        if (!display || display === 'none') {{\n",
              "            console.log([gd, 'removed!']);\n",
              "            Plotly.purge(gd);\n",
              "            observer.disconnect();\n",
              "        }}\n",
              "}});\n",
              "\n",
              "// Listen for the removal of the full notebook cells\n",
              "var notebookContainer = gd.closest('#notebook-container');\n",
              "if (notebookContainer) {{\n",
              "    x.observe(notebookContainer, {childList: true});\n",
              "}}\n",
              "\n",
              "// Listen for the clearing of the current output cell\n",
              "var outputEl = gd.closest('.output');\n",
              "if (outputEl) {{\n",
              "    x.observe(outputEl, {childList: true});\n",
              "}}\n",
              "\n",
              "                        })                };                            </script>        </div>\n",
              "</body>\n",
              "</html>"
            ]
          },
          "metadata": {}
        }
      ]
    },
    {
      "cell_type": "code",
      "source": [
        "# prompt: Menggunakan data di atas, buatlah bar chart untuk Fatality Ratio Agustus 2020 menggunakan matplotlib dengan coral\n",
        "\n",
        "import matplotlib.pyplot as plt\n",
        "\n",
        "# Assuming df_top_20_fatality_rate_august is already defined from the previous code\n",
        "\n",
        "plt.figure(figsize=(5, 3))\n",
        "plt.bar(df_top_20_fatality_rate_august[\"country_name\"], df_top_20_fatality_rate_august[\"fatality_ratio\"], color='coral')\n",
        "plt.xlabel(\"Country Name\")\n",
        "plt.ylabel(\"Fatality Ratio\")\n",
        "plt.title(\"Fatality Ratio Tertinggi di Bulan Agustus 2020\")\n",
        "plt.xticks(rotation=90)  # Rotate x-axis labels for better readability\n",
        "plt.tight_layout()\n",
        "plt.show()"
      ],
      "metadata": {
        "colab": {
          "base_uri": "https://localhost:8080/",
          "height": 307
        },
        "id": "PYSn1_KqdkXF",
        "outputId": "52d05889-24e1-4050-9664-6dda5ba283e9"
      },
      "execution_count": 28,
      "outputs": [
        {
          "output_type": "display_data",
          "data": {
            "text/plain": [
              "<Figure size 500x300 with 1 Axes>"
            ],
            "image/png": "[encoded data removed]"
          },
          "metadata": {}
        }
      ]
    },
    {
      "cell_type": "code",
      "source": [],
      "metadata": {
        "id": "_2OWl9BGdp56"
      },
      "execution_count": null,
      "outputs": []
    }
  ]
}